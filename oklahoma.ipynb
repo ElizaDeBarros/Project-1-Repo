{
 "cells": [
  {
   "cell_type": "code",
   "execution_count": 1,
   "id": "766f11e9",
   "metadata": {},
   "outputs": [],
   "source": [
    "import matplotlib.pyplot as plt\n",
    "import pandas as pd\n",
    "import numpy as np\n",
    "import requests\n",
    "import json"
   ]
  },
  {
   "cell_type": "code",
   "execution_count": 2,
   "id": "daa87728",
   "metadata": {},
   "outputs": [
    {
     "data": {
      "text/plain": [
       "p_year      4350\n",
       "t_manu      4350\n",
       "p_name      4350\n",
       "Capacity    4350\n",
       "Height      4350\n",
       "xlong       4350\n",
       "ylat        4350\n",
       "dtype: int64"
      ]
     },
     "metadata": {},
     "output_type": "display_data"
    },
    {
     "data": {
      "text/html": [
       "<div>\n",
       "<style scoped>\n",
       "    .dataframe tbody tr th:only-of-type {\n",
       "        vertical-align: middle;\n",
       "    }\n",
       "\n",
       "    .dataframe tbody tr th {\n",
       "        vertical-align: top;\n",
       "    }\n",
       "\n",
       "    .dataframe thead th {\n",
       "        text-align: right;\n",
       "    }\n",
       "</style>\n",
       "<table border=\"1\" class=\"dataframe\">\n",
       "  <thead>\n",
       "    <tr style=\"text-align: right;\">\n",
       "      <th></th>\n",
       "      <th>p_year</th>\n",
       "      <th>t_manu</th>\n",
       "      <th>p_name</th>\n",
       "      <th>Capacity</th>\n",
       "      <th>Height</th>\n",
       "      <th>xlong</th>\n",
       "      <th>ylat</th>\n",
       "    </tr>\n",
       "  </thead>\n",
       "  <tbody>\n",
       "    <tr>\n",
       "      <th>0</th>\n",
       "      <td>2015</td>\n",
       "      <td>Vestas</td>\n",
       "      <td>Arbuckle Mountain</td>\n",
       "      <td>2000</td>\n",
       "      <td>135.0</td>\n",
       "      <td>-97.19896</td>\n",
       "      <td>34.39424</td>\n",
       "    </tr>\n",
       "    <tr>\n",
       "      <th>1</th>\n",
       "      <td>2015</td>\n",
       "      <td>Vestas</td>\n",
       "      <td>Arbuckle Mountain</td>\n",
       "      <td>2000</td>\n",
       "      <td>135.0</td>\n",
       "      <td>-97.16060</td>\n",
       "      <td>34.38300</td>\n",
       "    </tr>\n",
       "    <tr>\n",
       "      <th>2</th>\n",
       "      <td>2015</td>\n",
       "      <td>Vestas</td>\n",
       "      <td>Arbuckle Mountain</td>\n",
       "      <td>2000</td>\n",
       "      <td>135.0</td>\n",
       "      <td>-97.18465</td>\n",
       "      <td>34.39230</td>\n",
       "    </tr>\n",
       "    <tr>\n",
       "      <th>3</th>\n",
       "      <td>2015</td>\n",
       "      <td>Vestas</td>\n",
       "      <td>Arbuckle Mountain</td>\n",
       "      <td>2000</td>\n",
       "      <td>135.0</td>\n",
       "      <td>-97.13735</td>\n",
       "      <td>34.40107</td>\n",
       "    </tr>\n",
       "    <tr>\n",
       "      <th>4</th>\n",
       "      <td>2015</td>\n",
       "      <td>Vestas</td>\n",
       "      <td>Arbuckle Mountain</td>\n",
       "      <td>2000</td>\n",
       "      <td>135.0</td>\n",
       "      <td>-97.18190</td>\n",
       "      <td>34.39153</td>\n",
       "    </tr>\n",
       "  </tbody>\n",
       "</table>\n",
       "</div>"
      ],
      "text/plain": [
       "   p_year  t_manu             p_name  Capacity  Height     xlong      ylat\n",
       "0    2015  Vestas  Arbuckle Mountain      2000   135.0 -97.19896  34.39424\n",
       "1    2015  Vestas  Arbuckle Mountain      2000   135.0 -97.16060  34.38300\n",
       "2    2015  Vestas  Arbuckle Mountain      2000   135.0 -97.18465  34.39230\n",
       "3    2015  Vestas  Arbuckle Mountain      2000   135.0 -97.13735  34.40107\n",
       "4    2015  Vestas  Arbuckle Mountain      2000   135.0 -97.18190  34.39153"
      ]
     },
     "metadata": {},
     "output_type": "display_data"
    },
    {
     "data": {
      "text/plain": [
       "<matplotlib.axes._subplots.AxesSubplot at 0x1305df8f080>"
      ]
     },
     "execution_count": 2,
     "metadata": {},
     "output_type": "execute_result"
    },
    {
     "data": {
      "image/png": "[encoded data removed]",
      "text/plain": [
       "<Figure size 1440x360 with 2 Axes>"
      ]
     },
     "metadata": {
      "needs_background": "light"
     },
     "output_type": "display_data"
    }
   ],
   "source": [
    "ok_url = 'https://eersc.usgs.gov/api/uswtdb/v1/turbines?&t_state=eq.OK&t_cap=not.is.null&t_ttlh=not.is.null&select=p_year,t_manu,p_name,Capacity:t_cap,Height:t_ttlh,xlong,ylat'\n",
    "\n",
    "# Parse the JSON response from the API return and populate the dataframe\n",
    "caTurbines = pd.read_json(ok_url)\n",
    "\n",
    "# Display the number of turbines in our API return\n",
    "display(caTurbines.count())\n",
    "\n",
    "# Preview the first 5 records of the return. Data should only include the attributes defined by our API request\n",
    "display(caTurbines.head(5))\n",
    "\n",
    "# Generate a scatter plot with x-axis=year, y-axis=capacity, colorized (c) by height using 'viridis' matplotlib colormap\n",
    "caTurbines.plot.scatter(x='p_year',\n",
    "                         y='Capacity',\n",
    "                         c='Height',\n",
    "                         colormap='viridis',\n",
    "                         figsize=(20,5),\n",
    "                         sharex=False)"
   ]
  },
  {
   "cell_type": "code",
   "execution_count": null,
   "id": "f735e917",
   "metadata": {},
   "outputs": [],
   "source": []
  }
 ],
 "metadata": {
  "kernelspec": {
   "display_name": "Python [conda env:pythondata] *",
   "language": "python",
   "name": "conda-env-pythondata-py"
  },
  "language_info": {
   "codemirror_mode": {
    "name": "ipython",
    "version": 3
   },
   "file_extension": ".py",
   "mimetype": "text/x-python",
   "name": "python",
   "nbconvert_exporter": "python",
   "pygments_lexer": "ipython3",
   "version": "3.6.10"
  }
 },
 "nbformat": 4,
 "nbformat_minor": 5
}
