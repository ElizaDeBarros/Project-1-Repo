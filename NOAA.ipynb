{
 "cells": [
  {
   "cell_type": "code",
   "execution_count": 11,
   "metadata": {},
   "outputs": [],
   "source": [
    "# Dependencies and Setup\n",
    "import matplotlib.pyplot as plt\n",
    "import pandas as pd\n",
    "import numpy as np\n",
    "import requests\n",
    "import time\n",
    "from datetime import date\n",
    "from scipy.stats import linregress\n",
    "import json\n",
    "from pprint import pprint\n",
    "\n",
    "# Import API key\n",
    "#from api_keys import weather_api_key\n",
    "\n",
    "# Incorporated citipy to determine city based on latitude and longitude\n",
    "from citipy import citipy\n",
    "\n"
   ]
  },
  {
   "cell_type": "code",
   "execution_count": 14,
   "metadata": {
    "scrolled": true
   },
   "outputs": [
    {
     "name": "stdout",
     "output_type": "stream",
     "text": [
      "[{'path': 'v2/data', 'method': 'GET', 'parameters': [{'name': 'datasetid', 'required': False}, {'name': 'datatypeid', 'required': False}, {'name': 'locationid', 'required': False}, {'name': 'stationid', 'required': False}, {'name': 'startdate', 'required': True}, {'name': 'enddate', 'required': True}, {'name': 'includemetadata', 'required': False}, {'name': 'units', 'required': False}, {'name': 'sortfield', 'required': False}, {'name': 'sortorder', 'required': False}, {'name': 'limit', 'required': False}, {'name': 'offset', 'required': False}]}, {'path': 'v2/datasets/{id}', 'method': 'GET', 'parameters': []}, {'path': 'v2/datasets', 'method': 'GET', 'parameters': [{'name': 'datatypeid', 'required': False}, {'name': 'locationid', 'required': False}, {'name': 'stationid', 'required': False}, {'name': 'startdate', 'required': False}, {'name': 'enddate', 'required': False}, {'name': 'available', 'required': False}, {'name': 'legacy', 'required': False}, {'name': 'sortfield', 'required': False}, {'name': 'sortorder', 'required': False}, {'name': 'limit', 'required': False}, {'name': 'offset', 'required': False}]}, {'path': 'v2/datacategories', 'method': 'GET', 'parameters': [{'name': 'datasetid', 'required': False}, {'name': 'locationid', 'required': False}, {'name': 'stationid', 'required': False}, {'name': 'startdate', 'required': False}, {'name': 'enddate', 'required': False}, {'name': 'sortfield', 'required': False}, {'name': 'sortorder', 'required': False}, {'name': 'limit', 'required': False}, {'name': 'offset', 'required': False}]}, {'path': 'v2/datacategories/{id}', 'method': 'GET', 'parameters': []}, {'path': 'v2/datatypes', 'method': 'GET', 'parameters': [{'name': 'datasetid', 'required': False}, {'name': 'locationid', 'required': False}, {'name': 'stationid', 'required': False}, {'name': 'datacategoryid', 'required': False}, {'name': 'startdate', 'required': False}, {'name': 'enddate', 'required': False}, {'name': 'sortfield', 'required': False}, {'name': 'sortorder', 'required': False}, {'name': 'limit', 'required': False}, {'name': 'offset', 'required': False}]}, {'path': 'v2/datatypes/{id}', 'method': 'GET', 'parameters': []}, {'path': 'v2/datasetlocationdatatypes', 'method': 'GET', 'parameters': [{'name': 'datasetid', 'required': False}, {'name': 'locationid', 'required': False}, {'name': 'datacategoryid', 'required': False}, {'name': 'startdate', 'required': False}, {'name': 'enddate', 'required': False}, {'name': 'sortfield', 'required': False}, {'name': 'sortorder', 'required': False}, {'name': 'limit', 'required': False}, {'name': 'offset', 'required': False}]}, {'path': 'v2/datasetstationdatatypes', 'method': 'GET', 'parameters': [{'name': 'datasetid', 'required': False}, {'name': 'stationid', 'required': False}, {'name': 'datacategoryid', 'required': False}, {'name': 'startdate', 'required': False}, {'name': 'enddate', 'required': False}, {'name': 'sortfield', 'required': False}, {'name': 'sortorder', 'required': False}, {'name': 'limit', 'required': False}, {'name': 'offset', 'required': False}]}, {'path': 'v2/lcd/availablereporttypes', 'method': 'GET', 'parameters': [{'name': 'stationid', 'required': False}, {'name': 'locationid', 'required': False}, {'name': 'startdate', 'required': True}, {'name': 'enddate', 'required': True}]}, {'path': 'v2/locations', 'method': 'GET', 'parameters': [{'name': 'datasetid', 'required': False}, {'name': 'locationcategoryid', 'required': False}, {'name': 'parentid', 'required': False}, {'name': 'startdate', 'required': False}, {'name': 'enddate', 'required': False}, {'name': 'sortfield', 'required': False}, {'name': 'sortorder', 'required': False}, {'name': 'limit', 'required': False}, {'name': 'offset', 'required': False}]}, {'path': 'v2/locations/{id}', 'method': 'GET', 'parameters': []}, {'path': 'v2/locationcategories/{id}', 'method': 'GET', 'parameters': []}, {'path': 'v2/locationcategories', 'method': 'GET', 'parameters': [{'name': 'datasetid', 'required': False}, {'name': 'startdate', 'required': False}, {'name': 'enddate', 'required': False}, {'name': 'sortfield', 'required': False}, {'name': 'sortorder', 'required': False}, {'name': 'limit', 'required': False}, {'name': 'offset', 'required': False}]}, {'path': 'v2/products/{id}', 'method': 'GET', 'parameters': []}, {'path': 'v2/products', 'method': 'GET', 'parameters': [{'name': 'datasetid', 'required': False}, {'name': 'sortfield', 'required': False}, {'name': 'sortorder', 'required': False}, {'name': 'limit', 'required': False}, {'name': 'offset', 'required': False}]}, {'path': 'v2/records/summary', 'method': 'GET', 'parameters': [{'name': 'datasetid', 'required': False}, {'name': 'type', 'required': False}]}, {'path': 'v2/records/potential', 'method': 'GET', 'parameters': [{'name': 'locationid', 'required': True}, {'name': 'startdate', 'required': True}, {'name': 'enddate', 'required': True}]}, {'path': 'v2/records/data', 'method': 'GET', 'parameters': [{'name': 'datasetid', 'required': True}, {'name': 'datatypeid', 'required': False}, {'name': 'locationid', 'required': True}, {'name': 'startdate', 'required': True}, {'name': 'enddate', 'required': True}, {'name': 'type', 'required': False}, {'name': 'limit', 'required': False}, {'name': 'offset', 'required': False}, {'name': 'sortfield', 'required': False}, {'name': 'sortorder', 'required': False}]}, {'path': 'v2/search', 'method': 'GET', 'parameters': [{'name': 'resulttype', 'required': True}, {'name': 'text', 'required': True}, {'name': 'datasetid', 'required': False}, {'name': 'datacategoryid', 'required': False}, {'name': 'datatypeid', 'required': False}, {'name': 'startdate', 'required': False}, {'name': 'enddate', 'required': False}, {'name': 'sortfield', 'required': False}, {'name': 'sortorder', 'required': False}, {'name': 'limit', 'required': False}, {'name': 'offset', 'required': False}]}, {'path': 'v2/stations', 'method': 'GET', 'parameters': [{'name': 'datasetid', 'required': False}, {'name': 'locationid', 'required': False}, {'name': 'datacategoryid', 'required': False}, {'name': 'datatypeid', 'required': False}, {'name': 'extent', 'required': False}, {'name': 'startdate', 'required': False}, {'name': 'enddate', 'required': False}, {'name': 'sortfield', 'required': False}, {'name': 'sortorder', 'required': False}, {'name': 'limit', 'required': False}, {'name': 'offset', 'required': False}]}, {'path': 'v2/stations/{id}', 'method': 'GET', 'parameters': []}]\n"
     ]
    }
   ],
   "source": [
    "def get_noaa_data(url, data_type, header):\n",
    "\n",
    "    r = (requests.get(url, data_type, headers=header)).json()\n",
    "    print(r)\n",
    "\n",
    "\n",
    "if __name__ == '__main__':\n",
    "\n",
    "    token = 'ErOnnUpLXISwuYJeQcVcslLKhlFDacKo'\n",
    "    creds = dict(token=token)\n",
    "    dtype = 'dataset'\n",
    "    url = 'https://www.ncdc.noaa.gov/cdo-web/api/v2/'\n",
    "\n",
    "    get_noaa_data(url, dtype, creds)\n"
   ]
  },
  {
   "cell_type": "code",
   "execution_count": null,
   "metadata": {},
   "outputs": [],
   "source": []
  },
  {
   "cell_type": "code",
   "execution_count": null,
   "metadata": {},
   "outputs": [],
   "source": []
  },
  {
   "cell_type": "code",
   "execution_count": null,
   "metadata": {},
   "outputs": [],
   "source": []
  }
 ],
 "metadata": {
  "kernelspec": {
   "display_name": "Python [conda env:PythonData] *",
   "language": "python",
   "name": "conda-env-PythonData-py"
  },
  "language_info": {
   "codemirror_mode": {
    "name": "ipython",
    "version": 3
   },
   "file_extension": ".py",
   "mimetype": "text/x-python",
   "name": "python",
   "nbconvert_exporter": "python",
   "pygments_lexer": "ipython3",
   "version": "3.6.10"
  }
 },
 "nbformat": 4,
 "nbformat_minor": 4
}
